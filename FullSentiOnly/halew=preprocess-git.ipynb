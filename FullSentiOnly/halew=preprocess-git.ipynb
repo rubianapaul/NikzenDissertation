{
 "cells": [
  {
   "cell_type": "markdown",
   "metadata": {},
   "source": [
    "# LISBON AIRBNB SENTIMENT ANALYSIS"
   ]
  },
  {
   "cell_type": "markdown",
   "metadata": {},
   "source": [
    "> The purpose of this report is **to analyze customer reviews for Airbnb on Asheville, North Carolina, United States**. And act as a stepping stone **to know what the customers think of the service offered by Asheville's Airbnb, and this analysis could help to know if the hosts are providing good customer service or not**. The analysis progress would be separated on several notebook, and will cover from *data preprocessing, text preprocessing, topic modelling, visualization, model building, to model testing*. \n",
    "\n",
    "> This notebook specifically will only cover the **DATA PREPROCESSING** part.\n",
    "\n",
    "> The dataset contains the **detailed review data for listings in Asheville, North Carolina** compiled on **08 November, 2020**. The data are from the **Inside Airbnb site**, it is sourced from publicly available information, from the Airbnb site. The data has been analyzed, cleansed and aggregated where appropriate to faciliate public discussion. More on this data, and other similar data refers to this [link](http://insideairbnb.com/get-the-data.html)"
   ]
  },
  {
   "cell_type": "markdown",
   "metadata": {},
   "source": [
    "## IMPORT LIBRARIES"
   ]
  },
  {
   "cell_type": "code",
   "execution_count": 24,
   "metadata": {},
   "outputs": [],
   "source": [
    "# data wrangling\n",
    "\n",
    "import re\n",
    "import string\n",
    "import pandas as pd\n",
    "import numpy as np\n",
    "\n",
    "# data visualization\n",
    "\n",
    "import matplotlib.pyplot as plt\n",
    "import seaborn as sns\n",
    "\n",
    "# text processing\n",
    "\n",
    "import nltk\n",
    "from nltk.corpus import stopwords\n",
    "from nltk.test.portuguese_en_fixt import setup_module\n",
    "from nltk.tokenize import sent_tokenize, word_tokenize\n",
    "\n",
    "# filter warning\n",
    "\n",
    "import warnings\n",
    "warnings.filterwarnings('ignore')"
   ]
  },
  {
   "cell_type": "markdown",
   "metadata": {},
   "source": [
    "## OVERVIEW"
   ]
  },
  {
   "cell_type": "code",
   "execution_count": 2,
   "metadata": {},
   "outputs": [],
   "source": [
    "# load data\n",
    "df = pd.read_csv(\"C:/Users/lizab/Downloads/halew.csv\")"
   ]
  },
  {
   "cell_type": "code",
   "execution_count": 3,
   "metadata": {},
   "outputs": [
    {
     "data": {
      "text/html": [
       "<div>\n",
       "<style scoped>\n",
       "    .dataframe tbody tr th:only-of-type {\n",
       "        vertical-align: middle;\n",
       "    }\n",
       "\n",
       "    .dataframe tbody tr th {\n",
       "        vertical-align: top;\n",
       "    }\n",
       "\n",
       "    .dataframe thead th {\n",
       "        text-align: right;\n",
       "    }\n",
       "</style>\n",
       "<table border=\"1\" class=\"dataframe\">\n",
       "  <thead>\n",
       "    <tr style=\"text-align: right;\">\n",
       "      <th></th>\n",
       "      <th>listing_id</th>\n",
       "      <th>id</th>\n",
       "      <th>date</th>\n",
       "      <th>reviewer_id</th>\n",
       "      <th>reviewer_name</th>\n",
       "      <th>comments</th>\n",
       "    </tr>\n",
       "  </thead>\n",
       "  <tbody>\n",
       "    <tr>\n",
       "      <th>0</th>\n",
       "      <td>198480</td>\n",
       "      <td>87255046.0</td>\n",
       "      <td>7/19/2016</td>\n",
       "      <td>40872502</td>\n",
       "      <td>Nour</td>\n",
       "      <td>Belle appartement rÃ©cent situÃ© Ã  15 minutes...</td>\n",
       "    </tr>\n",
       "    <tr>\n",
       "      <th>1</th>\n",
       "      <td>198480</td>\n",
       "      <td>91814194.0</td>\n",
       "      <td>8/6/2016</td>\n",
       "      <td>40494412</td>\n",
       "      <td>Vitor</td>\n",
       "      <td>Morada excelente, com limpeza Ã³tima, muito be...</td>\n",
       "    </tr>\n",
       "    <tr>\n",
       "      <th>2</th>\n",
       "      <td>198480</td>\n",
       "      <td>94780243.0</td>\n",
       "      <td>8/17/2016</td>\n",
       "      <td>70116792</td>\n",
       "      <td>Ricardo</td>\n",
       "      <td>Boa localizaÃ§Ã£o, casa cÃ´moda e simpÃ¡tica ....</td>\n",
       "    </tr>\n",
       "    <tr>\n",
       "      <th>3</th>\n",
       "      <td>198480</td>\n",
       "      <td>96934467.0</td>\n",
       "      <td>8/25/2016</td>\n",
       "      <td>72247207</td>\n",
       "      <td>Victor</td>\n",
       "      <td>En fin ganska nybyggd lÃ¤genhet med  all utrus...</td>\n",
       "    </tr>\n",
       "    <tr>\n",
       "      <th>4</th>\n",
       "      <td>198480</td>\n",
       "      <td>111434378.0</td>\n",
       "      <td>10/31/2016</td>\n",
       "      <td>96738915</td>\n",
       "      <td>Elbert Takeshi</td>\n",
       "      <td>Ã“timo apartamento, mtu aconchegante e espaÃ§o...</td>\n",
       "    </tr>\n",
       "  </tbody>\n",
       "</table>\n",
       "</div>"
      ],
      "text/plain": [
       "   listing_id           id        date  reviewer_id   reviewer_name  \\\n",
       "0      198480   87255046.0   7/19/2016     40872502            Nour   \n",
       "1      198480   91814194.0    8/6/2016     40494412           Vitor   \n",
       "2      198480   94780243.0   8/17/2016     70116792         Ricardo   \n",
       "3      198480   96934467.0   8/25/2016     72247207          Victor   \n",
       "4      198480  111434378.0  10/31/2016     96738915  Elbert Takeshi   \n",
       "\n",
       "                                            comments  \n",
       "0  Belle appartement rÃ©cent situÃ© Ã  15 minutes...  \n",
       "1  Morada excelente, com limpeza Ã³tima, muito be...  \n",
       "2  Boa localizaÃ§Ã£o, casa cÃ´moda e simpÃ¡tica ....  \n",
       "3  En fin ganska nybyggd lÃ¤genhet med  all utrus...  \n",
       "4  Ã“timo apartamento, mtu aconchegante e espaÃ§o...  "
      ]
     },
     "execution_count": 3,
     "metadata": {},
     "output_type": "execute_result"
    }
   ],
   "source": [
    "# show top 5\n",
    "\n",
    "df.head()"
   ]
  },
  {
   "cell_type": "code",
   "execution_count": 4,
   "metadata": {},
   "outputs": [
    {
     "name": "stdout",
     "output_type": "stream",
     "text": [
      "<class 'pandas.core.frame.DataFrame'>\n",
      "RangeIndex: 499 entries, 0 to 498\n",
      "Data columns (total 6 columns):\n",
      " #   Column         Non-Null Count  Dtype  \n",
      "---  ------         --------------  -----  \n",
      " 0   listing_id     499 non-null    int64  \n",
      " 1   id             499 non-null    float64\n",
      " 2   date           499 non-null    object \n",
      " 3   reviewer_id    499 non-null    int64  \n",
      " 4   reviewer_name  499 non-null    object \n",
      " 5   comments       499 non-null    object \n",
      "dtypes: float64(1), int64(2), object(3)\n",
      "memory usage: 23.5+ KB\n"
     ]
    }
   ],
   "source": [
    "# check info\n",
    "\n",
    "df.info()"
   ]
  },
  {
   "cell_type": "code",
   "execution_count": 5,
   "metadata": {},
   "outputs": [],
   "source": [
    "# function to check data summary\n",
    "\n",
    "def summary(df):\n",
    "    \n",
    "    columns = df.columns.to_list()\n",
    "    \n",
    "    dtypes = []\n",
    "    unique_counts = []\n",
    "    missing_counts = []\n",
    "    missing_percentages = []\n",
    "    total_counts = [df.shape[0]] * len(columns)\n",
    "\n",
    "    for col in columns:\n",
    "        dtype = str(df[col].dtype)\n",
    "        dtypes.append(dtype)\n",
    "        unique_count = df[col].nunique()\n",
    "        unique_counts.append(unique_count)\n",
    "        missing_count = df[col].isnull().sum()\n",
    "        missing_counts.append(missing_count)\n",
    "        missing_percentage = round((missing_count/df.shape[0]) * 100, 2)\n",
    "        missing_percentages.append(missing_percentage)\n",
    "\n",
    "    df_summary = pd.DataFrame({\n",
    "        \"column\": columns,\n",
    "        \"dtypes\": dtypes,\n",
    "        \"unique_count\": unique_counts,\n",
    "        \"missing_values\": missing_counts,\n",
    "        \"missing_percentage\": missing_percentages,\n",
    "        \"total_count\": total_counts,\n",
    "    })\n",
    "\n",
    "    return df_summary.sort_values(by=\"missing_percentage\", ascending=False).reset_index(drop=True)"
   ]
  },
  {
   "cell_type": "code",
   "execution_count": 6,
   "metadata": {},
   "outputs": [
    {
     "data": {
      "text/html": [
       "<div>\n",
       "<style scoped>\n",
       "    .dataframe tbody tr th:only-of-type {\n",
       "        vertical-align: middle;\n",
       "    }\n",
       "\n",
       "    .dataframe tbody tr th {\n",
       "        vertical-align: top;\n",
       "    }\n",
       "\n",
       "    .dataframe thead th {\n",
       "        text-align: right;\n",
       "    }\n",
       "</style>\n",
       "<table border=\"1\" class=\"dataframe\">\n",
       "  <thead>\n",
       "    <tr style=\"text-align: right;\">\n",
       "      <th></th>\n",
       "      <th>column</th>\n",
       "      <th>dtypes</th>\n",
       "      <th>unique_count</th>\n",
       "      <th>missing_values</th>\n",
       "      <th>missing_percentage</th>\n",
       "      <th>total_count</th>\n",
       "    </tr>\n",
       "  </thead>\n",
       "  <tbody>\n",
       "    <tr>\n",
       "      <th>0</th>\n",
       "      <td>listing_id</td>\n",
       "      <td>int64</td>\n",
       "      <td>7</td>\n",
       "      <td>0</td>\n",
       "      <td>0.0</td>\n",
       "      <td>499</td>\n",
       "    </tr>\n",
       "    <tr>\n",
       "      <th>1</th>\n",
       "      <td>id</td>\n",
       "      <td>float64</td>\n",
       "      <td>499</td>\n",
       "      <td>0</td>\n",
       "      <td>0.0</td>\n",
       "      <td>499</td>\n",
       "    </tr>\n",
       "    <tr>\n",
       "      <th>2</th>\n",
       "      <td>date</td>\n",
       "      <td>object</td>\n",
       "      <td>459</td>\n",
       "      <td>0</td>\n",
       "      <td>0.0</td>\n",
       "      <td>499</td>\n",
       "    </tr>\n",
       "    <tr>\n",
       "      <th>3</th>\n",
       "      <td>reviewer_id</td>\n",
       "      <td>int64</td>\n",
       "      <td>495</td>\n",
       "      <td>0</td>\n",
       "      <td>0.0</td>\n",
       "      <td>499</td>\n",
       "    </tr>\n",
       "    <tr>\n",
       "      <th>4</th>\n",
       "      <td>reviewer_name</td>\n",
       "      <td>object</td>\n",
       "      <td>420</td>\n",
       "      <td>0</td>\n",
       "      <td>0.0</td>\n",
       "      <td>499</td>\n",
       "    </tr>\n",
       "    <tr>\n",
       "      <th>5</th>\n",
       "      <td>comments</td>\n",
       "      <td>object</td>\n",
       "      <td>499</td>\n",
       "      <td>0</td>\n",
       "      <td>0.0</td>\n",
       "      <td>499</td>\n",
       "    </tr>\n",
       "  </tbody>\n",
       "</table>\n",
       "</div>"
      ],
      "text/plain": [
       "          column   dtypes  unique_count  missing_values  missing_percentage  \\\n",
       "0     listing_id    int64             7               0                 0.0   \n",
       "1             id  float64           499               0                 0.0   \n",
       "2           date   object           459               0                 0.0   \n",
       "3    reviewer_id    int64           495               0                 0.0   \n",
       "4  reviewer_name   object           420               0                 0.0   \n",
       "5       comments   object           499               0                 0.0   \n",
       "\n",
       "   total_count  \n",
       "0          499  \n",
       "1          499  \n",
       "2          499  \n",
       "3          499  \n",
       "4          499  \n",
       "5          499  "
      ]
     },
     "execution_count": 6,
     "metadata": {},
     "output_type": "execute_result"
    }
   ],
   "source": [
    "# check summary\n",
    "\n",
    "summary(df)"
   ]
  },
  {
   "cell_type": "markdown",
   "metadata": {},
   "source": [
    "> There are some `dtypes` that are not proper, then there are also a missing values on *comments* feature. I'll check on it later. But I'll clean the data on preprocessing first before going on text cleaning."
   ]
  },
  {
   "cell_type": "markdown",
   "metadata": {},
   "source": [
    "## PREPROCESSING"
   ]
  },
  {
   "cell_type": "code",
   "execution_count": 7,
   "metadata": {},
   "outputs": [],
   "source": [
    "# fixing columns dtpes\n",
    "\n",
    "for i in df.columns:\n",
    "    if i == 'listing_id' or i == 'id' or i == 'reviewer_id':\n",
    "        df[i] = df[i].astype(np.object)\n",
    "    elif i == 'date' :\n",
    "        df[i] = pd.to_datetime(df[i])\n",
    "    else : \n",
    "        pass"
   ]
  },
  {
   "cell_type": "code",
   "execution_count": 8,
   "metadata": {},
   "outputs": [
    {
     "name": "stdout",
     "output_type": "stream",
     "text": [
      "<class 'pandas.core.frame.DataFrame'>\n",
      "RangeIndex: 499 entries, 0 to 498\n",
      "Data columns (total 6 columns):\n",
      " #   Column         Non-Null Count  Dtype         \n",
      "---  ------         --------------  -----         \n",
      " 0   listing_id     499 non-null    object        \n",
      " 1   id             499 non-null    object        \n",
      " 2   date           499 non-null    datetime64[ns]\n",
      " 3   reviewer_id    499 non-null    object        \n",
      " 4   reviewer_name  499 non-null    object        \n",
      " 5   comments       499 non-null    object        \n",
      "dtypes: datetime64[ns](1), object(5)\n",
      "memory usage: 23.5+ KB\n"
     ]
    }
   ],
   "source": [
    "# check info\n",
    "\n",
    "df.info()"
   ]
  },
  {
   "cell_type": "code",
   "execution_count": 9,
   "metadata": {},
   "outputs": [
    {
     "data": {
      "text/html": [
       "<div>\n",
       "<style scoped>\n",
       "    .dataframe tbody tr th:only-of-type {\n",
       "        vertical-align: middle;\n",
       "    }\n",
       "\n",
       "    .dataframe tbody tr th {\n",
       "        vertical-align: top;\n",
       "    }\n",
       "\n",
       "    .dataframe thead th {\n",
       "        text-align: right;\n",
       "    }\n",
       "</style>\n",
       "<table border=\"1\" class=\"dataframe\">\n",
       "  <thead>\n",
       "    <tr style=\"text-align: right;\">\n",
       "      <th></th>\n",
       "      <th>listing_id</th>\n",
       "      <th>id</th>\n",
       "      <th>date</th>\n",
       "      <th>reviewer_id</th>\n",
       "      <th>reviewer_name</th>\n",
       "      <th>comments</th>\n",
       "    </tr>\n",
       "  </thead>\n",
       "  <tbody>\n",
       "  </tbody>\n",
       "</table>\n",
       "</div>"
      ],
      "text/plain": [
       "Empty DataFrame\n",
       "Columns: [listing_id, id, date, reviewer_id, reviewer_name, comments]\n",
       "Index: []"
      ]
     },
     "execution_count": 9,
     "metadata": {},
     "output_type": "execute_result"
    }
   ],
   "source": [
    "# check missing values\n",
    "\n",
    "df[df['comments'].isna()]\n"
   ]
  },
  {
   "cell_type": "code",
   "execution_count": 10,
   "metadata": {},
   "outputs": [],
   "source": [
    "# fill missing values\n",
    "\n",
    "df['comments'].fillna('No Description', inplace=True)"
   ]
  },
  {
   "cell_type": "code",
   "execution_count": 40,
   "metadata": {},
   "outputs": [
    {
     "data": {
      "text/plain": [
       "listing_id       0\n",
       "id               0\n",
       "date             0\n",
       "reviewer_id      0\n",
       "reviewer_name    0\n",
       "comments         0\n",
       "dtype: int64"
      ]
     },
     "execution_count": 40,
     "metadata": {},
     "output_type": "execute_result"
    }
   ],
   "source": [
    "# check missing values\n",
    "\n",
    "df.isna().sum()"
   ]
  },
  {
   "cell_type": "markdown",
   "metadata": {},
   "source": [
    "> Now that everything is properly cleaned. I'll continue to text processing."
   ]
  },
  {
   "cell_type": "markdown",
   "metadata": {},
   "source": [
    "## TEXT PROCESSING"
   ]
  },
  {
   "cell_type": "markdown",
   "metadata": {},
   "source": [
    "> To start with, I'll clean the text on *comments* features by doing * case folding* and *tokenizing* as well as *removing stopwords* on the text."
   ]
  },
  {
   "cell_type": "code",
   "execution_count": 25,
   "metadata": {},
   "outputs": [],
   "source": [
    "# function to clean text\n",
    "\n",
    "def clean_text(data,stopword,stoppies):\n",
    "    \n",
    "    # casefolding\n",
    "    data = [i.lower() for i in data]\n",
    "    data = [' '.join(re.sub(\"(@[A-Za-z0-9]+)|([^0-9A-Za-z \\t])|(\\w+:\\/\\/\\S+)|\\d+\", \" \", i).split()) for i in data]\n",
    "    res = ' '.join(data) \n",
    "\n",
    "    # tokenizing \n",
    "    word_tokens = word_tokenize(res)    \n",
    "    res = ' '.join([i for i in word_tokens if not i in stopword])\n",
    "    \n",
    "    return res"
   ]
  },
  {
   "cell_type": "code",
   "execution_count": 30,
   "metadata": {},
   "outputs": [],
   "source": [
    "# set stopword\n",
    "\n",
    "stopwords = nltk.corpus.stopwords.words('english','portuguese')\n",
    "\n",
    "# text cleaning\n",
    "\n",
    "comment_filtered = []\n",
    "for i in df['comments']:\n",
    "    comment_filtered.append(clean_text([i], stop_words,stopwords))"
   ]
  },
  {
   "cell_type": "code",
   "execution_count": 31,
   "metadata": {},
   "outputs": [
    {
     "data": {
      "text/plain": [
       "'belle appartement r cent situ minutes pied du tro et minutes du bus qui est desservi tout au long de la nuit br ana est rendu disponible durant le jour'"
      ]
     },
     "execution_count": 31,
     "metadata": {},
     "output_type": "execute_result"
    }
   ],
   "source": [
    "# check filtered comment\n",
    "\n",
    "comment_filtered[0]"
   ]
  },
  {
   "cell_type": "code",
   "execution_count": 32,
   "metadata": {},
   "outputs": [],
   "source": [
    "# create new feature to store cleaned text\n",
    "\n",
    "df['comments_cleaned'] = comment_filtered"
   ]
  },
  {
   "cell_type": "code",
   "execution_count": 33,
   "metadata": {},
   "outputs": [
    {
     "data": {
      "text/html": [
       "<div>\n",
       "<style scoped>\n",
       "    .dataframe tbody tr th:only-of-type {\n",
       "        vertical-align: middle;\n",
       "    }\n",
       "\n",
       "    .dataframe tbody tr th {\n",
       "        vertical-align: top;\n",
       "    }\n",
       "\n",
       "    .dataframe thead th {\n",
       "        text-align: right;\n",
       "    }\n",
       "</style>\n",
       "<table border=\"1\" class=\"dataframe\">\n",
       "  <thead>\n",
       "    <tr style=\"text-align: right;\">\n",
       "      <th></th>\n",
       "      <th>listing_id</th>\n",
       "      <th>id</th>\n",
       "      <th>date</th>\n",
       "      <th>reviewer_id</th>\n",
       "      <th>reviewer_name</th>\n",
       "      <th>comments</th>\n",
       "      <th>comments_cleaned</th>\n",
       "    </tr>\n",
       "  </thead>\n",
       "  <tbody>\n",
       "    <tr>\n",
       "      <th>0</th>\n",
       "      <td>198480</td>\n",
       "      <td>87255046.0</td>\n",
       "      <td>2016-07-19</td>\n",
       "      <td>40872502</td>\n",
       "      <td>Nour</td>\n",
       "      <td>Belle appartement rÃ©cent situÃ© Ã  15 minutes...</td>\n",
       "      <td>belle appartement r cent situ minutes pied du ...</td>\n",
       "    </tr>\n",
       "    <tr>\n",
       "      <th>1</th>\n",
       "      <td>198480</td>\n",
       "      <td>91814194.0</td>\n",
       "      <td>2016-08-06</td>\n",
       "      <td>40494412</td>\n",
       "      <td>Vitor</td>\n",
       "      <td>Morada excelente, com limpeza Ã³tima, muito be...</td>\n",
       "      <td>morada excelente com limpeza tima muito bem lo...</td>\n",
       "    </tr>\n",
       "    <tr>\n",
       "      <th>2</th>\n",
       "      <td>198480</td>\n",
       "      <td>94780243.0</td>\n",
       "      <td>2016-08-17</td>\n",
       "      <td>70116792</td>\n",
       "      <td>Ricardo</td>\n",
       "      <td>Boa localizaÃ§Ã£o, casa cÃ´moda e simpÃ¡tica ....</td>\n",
       "      <td>boa localiza casa c moda e simp tica propriet ...</td>\n",
       "    </tr>\n",
       "    <tr>\n",
       "      <th>3</th>\n",
       "      <td>198480</td>\n",
       "      <td>96934467.0</td>\n",
       "      <td>2016-08-25</td>\n",
       "      <td>72247207</td>\n",
       "      <td>Victor</td>\n",
       "      <td>En fin ganska nybyggd lÃ¤genhet med  all utrus...</td>\n",
       "      <td>en fin ganska nybyggd l genhet med utrustning ...</td>\n",
       "    </tr>\n",
       "    <tr>\n",
       "      <th>4</th>\n",
       "      <td>198480</td>\n",
       "      <td>111434378.0</td>\n",
       "      <td>2016-10-31</td>\n",
       "      <td>96738915</td>\n",
       "      <td>Elbert Takeshi</td>\n",
       "      <td>Ã“timo apartamento, mtu aconchegante e espaÃ§o...</td>\n",
       "      <td>timo apartamento mtu aconchegante e espa oso g...</td>\n",
       "    </tr>\n",
       "  </tbody>\n",
       "</table>\n",
       "</div>"
      ],
      "text/plain": [
       "  listing_id           id       date reviewer_id   reviewer_name  \\\n",
       "0     198480   87255046.0 2016-07-19    40872502            Nour   \n",
       "1     198480   91814194.0 2016-08-06    40494412           Vitor   \n",
       "2     198480   94780243.0 2016-08-17    70116792         Ricardo   \n",
       "3     198480   96934467.0 2016-08-25    72247207          Victor   \n",
       "4     198480  111434378.0 2016-10-31    96738915  Elbert Takeshi   \n",
       "\n",
       "                                            comments  \\\n",
       "0  Belle appartement rÃ©cent situÃ© Ã  15 minutes...   \n",
       "1  Morada excelente, com limpeza Ã³tima, muito be...   \n",
       "2  Boa localizaÃ§Ã£o, casa cÃ´moda e simpÃ¡tica ....   \n",
       "3  En fin ganska nybyggd lÃ¤genhet med  all utrus...   \n",
       "4  Ã“timo apartamento, mtu aconchegante e espaÃ§o...   \n",
       "\n",
       "                                    comments_cleaned  \n",
       "0  belle appartement r cent situ minutes pied du ...  \n",
       "1  morada excelente com limpeza tima muito bem lo...  \n",
       "2  boa localiza casa c moda e simp tica propriet ...  \n",
       "3  en fin ganska nybyggd l genhet med utrustning ...  \n",
       "4  timo apartamento mtu aconchegante e espa oso g...  "
      ]
     },
     "execution_count": 33,
     "metadata": {},
     "output_type": "execute_result"
    }
   ],
   "source": [
    "# show dataframe\n",
    "\n",
    "df.head()"
   ]
  },
  {
   "cell_type": "markdown",
   "metadata": {},
   "source": [
    "> Next, I'll drop this cleaned data to new dataframe to be used on the next part. "
   ]
  },
  {
   "cell_type": "code",
   "execution_count": 34,
   "metadata": {},
   "outputs": [],
   "source": [
    "# drop to new dataframe\n",
    "\n",
    "df.to_csv('halew-reviews-clean.csv', index=False)"
   ]
  },
  {
   "cell_type": "markdown",
   "metadata": {},
   "source": [
    "## REFERENCES\n",
    "\n",
    ">- https://towardsdatascience.com/stemming-vs-lemmatization-2daddabcb221?_branch_match_id=835004835328579359\n",
    ">- https://towardsdatascience.com/stemming-lemmatization-what-ba782b7c0bd8"
   ]
  }
 ],
 "metadata": {
  "kernelspec": {
   "display_name": "Python 3 (ipykernel)",
   "language": "python",
   "name": "python3"
  },
  "language_info": {
   "codemirror_mode": {
    "name": "ipython",
    "version": 3
   },
   "file_extension": ".py",
   "mimetype": "text/x-python",
   "name": "python",
   "nbconvert_exporter": "python",
   "pygments_lexer": "ipython3",
   "version": "3.9.12"
  }
 },
 "nbformat": 4,
 "nbformat_minor": 4
}
