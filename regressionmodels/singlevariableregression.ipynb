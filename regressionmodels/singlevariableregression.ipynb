{
 "cells": [
  {
   "cell_type": "code",
   "execution_count": 1,
   "id": "d40764e7",
   "metadata": {
    "_cell_guid": "b1076dfc-b9ad-4769-8c92-a6c4dae69d19",
    "_uuid": "8f2839f25d086af736a60e9eeb907d3b93b6e0e5",
    "execution": {
     "iopub.execute_input": "2023-08-23T23:20:36.415530Z",
     "iopub.status.busy": "2023-08-23T23:20:36.415162Z",
     "iopub.status.idle": "2023-08-23T23:20:36.431864Z",
     "shell.execute_reply": "2023-08-23T23:20:36.431152Z"
    },
    "papermill": {
     "duration": 0.026636,
     "end_time": "2023-08-23T23:20:36.434363",
     "exception": false,
     "start_time": "2023-08-23T23:20:36.407727",
     "status": "completed"
    },
    "tags": []
   },
   "outputs": [
    {
     "name": "stdout",
     "output_type": "stream",
     "text": [
      "/kaggle/input/salary-data-simple-linear-regression/Salary_Data.csv\n"
     ]
    }
   ],
   "source": [
    "# This Python 3 environment comes with many helpful analytics libraries installed\n",
    "# It is defined by the kaggle/python Docker image: https://github.com/kaggle/docker-python\n",
    "# For example, here's several helpful packages to load\n",
    "\n",
    "import numpy as np # linear algebra\n",
    "import pandas as pd # data processing, CSV file I/O (e.g. pd.read_csv)\n",
    "\n",
    "# Input data files are available in the read-only \"../input/\" directory\n",
    "# For example, running this (by clicking run or pressing Shift+Enter) will list all files under the input directory\n",
    "\n",
    "import os\n",
    "for dirname, _, filenames in os.walk('/kaggle/input'):\n",
    "    for filename in filenames:\n",
    "        print(os.path.join(dirname, filename))\n",
    "\n",
    "# You can write up to 20GB to the current directory (/kaggle/working/) that gets preserved as output when you create a version using \"Save & Run All\" \n",
    "# You can also write temporary files to /kaggle/temp/, but they won't be saved outside of the current session"
   ]
  },
  {
   "cell_type": "code",
   "execution_count": 2,
   "id": "3d6c0303",
   "metadata": {
    "execution": {
     "iopub.execute_input": "2023-08-23T23:20:36.446062Z",
     "iopub.status.busy": "2023-08-23T23:20:36.445724Z",
     "iopub.status.idle": "2023-08-23T23:20:36.449270Z",
     "shell.execute_reply": "2023-08-23T23:20:36.448517Z"
    },
    "papermill": {
     "duration": 0.011645,
     "end_time": "2023-08-23T23:20:36.451149",
     "exception": false,
     "start_time": "2023-08-23T23:20:36.439504",
     "status": "completed"
    },
    "tags": []
   },
   "outputs": [],
   "source": [
    "import numpy as np\n",
    "import pandas as pd"
   ]
  },
  {
   "cell_type": "code",
   "execution_count": 4,
   "id": "3988f1b3",
   "metadata": {
    "execution": {
     "iopub.execute_input": "2023-08-23T23:20:36.462733Z",
     "iopub.status.busy": "2023-08-23T23:20:36.462339Z",
     "iopub.status.idle": "2023-08-23T23:20:36.480737Z",
     "shell.execute_reply": "2023-08-23T23:20:36.479790Z"
    },
    "papermill": {
     "duration": 0.026975,
     "end_time": "2023-08-23T23:20:36.483098",
     "exception": false,
     "start_time": "2023-08-23T23:20:36.456123",
     "status": "completed"
    },
    "tags": []
   },
   "outputs": [],
   "source": [
    "df = pd.read_csv(\"C:/Users/lizab/destination.csv\")"
   ]
  },
  {
   "cell_type": "code",
   "execution_count": 5,
   "id": "505887fe",
   "metadata": {
    "execution": {
     "iopub.execute_input": "2023-08-23T23:20:36.495018Z",
     "iopub.status.busy": "2023-08-23T23:20:36.494595Z",
     "iopub.status.idle": "2023-08-23T23:20:36.513821Z",
     "shell.execute_reply": "2023-08-23T23:20:36.512987Z"
    },
    "papermill": {
     "duration": 0.027529,
     "end_time": "2023-08-23T23:20:36.515762",
     "exception": false,
     "start_time": "2023-08-23T23:20:36.488233",
     "status": "completed"
    },
    "tags": []
   },
   "outputs": [
    {
     "data": {
      "text/html": [
       "<div>\n",
       "<style scoped>\n",
       "    .dataframe tbody tr th:only-of-type {\n",
       "        vertical-align: middle;\n",
       "    }\n",
       "\n",
       "    .dataframe tbody tr th {\n",
       "        vertical-align: top;\n",
       "    }\n",
       "\n",
       "    .dataframe thead th {\n",
       "        text-align: right;\n",
       "    }\n",
       "</style>\n",
       "<table border=\"1\" class=\"dataframe\">\n",
       "  <thead>\n",
       "    <tr style=\"text-align: right;\">\n",
       "      <th></th>\n",
       "      <th>review_scores_location</th>\n",
       "      <th>price</th>\n",
       "    </tr>\n",
       "  </thead>\n",
       "  <tbody>\n",
       "    <tr>\n",
       "      <th>0</th>\n",
       "      <td>4.55</td>\n",
       "      <td>58.0</td>\n",
       "    </tr>\n",
       "    <tr>\n",
       "      <th>1</th>\n",
       "      <td>5.00</td>\n",
       "      <td>67.0</td>\n",
       "    </tr>\n",
       "    <tr>\n",
       "      <th>2</th>\n",
       "      <td>4.79</td>\n",
       "      <td>66.0</td>\n",
       "    </tr>\n",
       "    <tr>\n",
       "      <th>3</th>\n",
       "      <td>4.85</td>\n",
       "      <td>150.0</td>\n",
       "    </tr>\n",
       "    <tr>\n",
       "      <th>4</th>\n",
       "      <td>4.92</td>\n",
       "      <td>66.0</td>\n",
       "    </tr>\n",
       "    <tr>\n",
       "      <th>5</th>\n",
       "      <td>4.56</td>\n",
       "      <td>38.0</td>\n",
       "    </tr>\n",
       "    <tr>\n",
       "      <th>6</th>\n",
       "      <td>4.51</td>\n",
       "      <td>95.0</td>\n",
       "    </tr>\n",
       "    <tr>\n",
       "      <th>7</th>\n",
       "      <td>4.88</td>\n",
       "      <td>45.0</td>\n",
       "    </tr>\n",
       "    <tr>\n",
       "      <th>8</th>\n",
       "      <td>4.90</td>\n",
       "      <td>63.0</td>\n",
       "    </tr>\n",
       "    <tr>\n",
       "      <th>9</th>\n",
       "      <td>4.51</td>\n",
       "      <td>80.0</td>\n",
       "    </tr>\n",
       "  </tbody>\n",
       "</table>\n",
       "</div>"
      ],
      "text/plain": [
       "   review_scores_location  price\n",
       "0                    4.55   58.0\n",
       "1                    5.00   67.0\n",
       "2                    4.79   66.0\n",
       "3                    4.85  150.0\n",
       "4                    4.92   66.0\n",
       "5                    4.56   38.0\n",
       "6                    4.51   95.0\n",
       "7                    4.88   45.0\n",
       "8                    4.90   63.0\n",
       "9                    4.51   80.0"
      ]
     },
     "execution_count": 5,
     "metadata": {},
     "output_type": "execute_result"
    }
   ],
   "source": [
    "df.head(10)"
   ]
  },
  {
   "cell_type": "code",
   "execution_count": 6,
   "id": "ae359797",
   "metadata": {
    "execution": {
     "iopub.execute_input": "2023-08-23T23:20:36.527749Z",
     "iopub.status.busy": "2023-08-23T23:20:36.527236Z",
     "iopub.status.idle": "2023-08-23T23:20:36.551603Z",
     "shell.execute_reply": "2023-08-23T23:20:36.550171Z"
    },
    "papermill": {
     "duration": 0.032968,
     "end_time": "2023-08-23T23:20:36.553880",
     "exception": false,
     "start_time": "2023-08-23T23:20:36.520912",
     "status": "completed"
    },
    "tags": []
   },
   "outputs": [
    {
     "name": "stdout",
     "output_type": "stream",
     "text": [
      "<class 'pandas.core.frame.DataFrame'>\n",
      "RangeIndex: 499 entries, 0 to 498\n",
      "Data columns (total 2 columns):\n",
      " #   Column                  Non-Null Count  Dtype  \n",
      "---  ------                  --------------  -----  \n",
      " 0   review_scores_location  482 non-null    float64\n",
      " 1   price                   499 non-null    float64\n",
      "dtypes: float64(2)\n",
      "memory usage: 7.9 KB\n"
     ]
    }
   ],
   "source": [
    "df.info()"
   ]
  },
  {
   "cell_type": "code",
   "execution_count": 7,
   "id": "0af7cafd",
   "metadata": {
    "execution": {
     "iopub.execute_input": "2023-08-23T23:20:36.566183Z",
     "iopub.status.busy": "2023-08-23T23:20:36.565828Z",
     "iopub.status.idle": "2023-08-23T23:20:36.584277Z",
     "shell.execute_reply": "2023-08-23T23:20:36.583311Z"
    },
    "papermill": {
     "duration": 0.026971,
     "end_time": "2023-08-23T23:20:36.586288",
     "exception": false,
     "start_time": "2023-08-23T23:20:36.559317",
     "status": "completed"
    },
    "tags": []
   },
   "outputs": [
    {
     "data": {
      "text/html": [
       "<div>\n",
       "<style scoped>\n",
       "    .dataframe tbody tr th:only-of-type {\n",
       "        vertical-align: middle;\n",
       "    }\n",
       "\n",
       "    .dataframe tbody tr th {\n",
       "        vertical-align: top;\n",
       "    }\n",
       "\n",
       "    .dataframe thead th {\n",
       "        text-align: right;\n",
       "    }\n",
       "</style>\n",
       "<table border=\"1\" class=\"dataframe\">\n",
       "  <thead>\n",
       "    <tr style=\"text-align: right;\">\n",
       "      <th></th>\n",
       "      <th>review_scores_location</th>\n",
       "      <th>price</th>\n",
       "    </tr>\n",
       "  </thead>\n",
       "  <tbody>\n",
       "    <tr>\n",
       "      <th>count</th>\n",
       "      <td>482.000000</td>\n",
       "      <td>499.000000</td>\n",
       "    </tr>\n",
       "    <tr>\n",
       "      <th>mean</th>\n",
       "      <td>4.728257</td>\n",
       "      <td>130.903808</td>\n",
       "    </tr>\n",
       "    <tr>\n",
       "      <th>std</th>\n",
       "      <td>0.261479</td>\n",
       "      <td>385.051557</td>\n",
       "    </tr>\n",
       "    <tr>\n",
       "      <th>min</th>\n",
       "      <td>3.000000</td>\n",
       "      <td>13.000000</td>\n",
       "    </tr>\n",
       "    <tr>\n",
       "      <th>25%</th>\n",
       "      <td>4.610000</td>\n",
       "      <td>65.000000</td>\n",
       "    </tr>\n",
       "    <tr>\n",
       "      <th>50%</th>\n",
       "      <td>4.815000</td>\n",
       "      <td>90.000000</td>\n",
       "    </tr>\n",
       "    <tr>\n",
       "      <th>75%</th>\n",
       "      <td>4.907500</td>\n",
       "      <td>137.000000</td>\n",
       "    </tr>\n",
       "    <tr>\n",
       "      <th>max</th>\n",
       "      <td>5.000000</td>\n",
       "      <td>8509.000000</td>\n",
       "    </tr>\n",
       "  </tbody>\n",
       "</table>\n",
       "</div>"
      ],
      "text/plain": [
       "       review_scores_location        price\n",
       "count              482.000000   499.000000\n",
       "mean                 4.728257   130.903808\n",
       "std                  0.261479   385.051557\n",
       "min                  3.000000    13.000000\n",
       "25%                  4.610000    65.000000\n",
       "50%                  4.815000    90.000000\n",
       "75%                  4.907500   137.000000\n",
       "max                  5.000000  8509.000000"
      ]
     },
     "execution_count": 7,
     "metadata": {},
     "output_type": "execute_result"
    }
   ],
   "source": [
    "df.describe()"
   ]
  },
  {
   "cell_type": "code",
   "execution_count": 8,
   "id": "043aee72",
   "metadata": {},
   "outputs": [
    {
     "data": {
      "text/html": [
       "<div>\n",
       "<style scoped>\n",
       "    .dataframe tbody tr th:only-of-type {\n",
       "        vertical-align: middle;\n",
       "    }\n",
       "\n",
       "    .dataframe tbody tr th {\n",
       "        vertical-align: top;\n",
       "    }\n",
       "\n",
       "    .dataframe thead th {\n",
       "        text-align: right;\n",
       "    }\n",
       "</style>\n",
       "<table border=\"1\" class=\"dataframe\">\n",
       "  <thead>\n",
       "    <tr style=\"text-align: right;\">\n",
       "      <th></th>\n",
       "      <th>review_scores_location</th>\n",
       "      <th>price</th>\n",
       "    </tr>\n",
       "  </thead>\n",
       "  <tbody>\n",
       "    <tr>\n",
       "      <th>0</th>\n",
       "      <td>4.55</td>\n",
       "      <td>58.0</td>\n",
       "    </tr>\n",
       "    <tr>\n",
       "      <th>1</th>\n",
       "      <td>5.00</td>\n",
       "      <td>67.0</td>\n",
       "    </tr>\n",
       "    <tr>\n",
       "      <th>2</th>\n",
       "      <td>4.79</td>\n",
       "      <td>66.0</td>\n",
       "    </tr>\n",
       "    <tr>\n",
       "      <th>3</th>\n",
       "      <td>4.85</td>\n",
       "      <td>150.0</td>\n",
       "    </tr>\n",
       "    <tr>\n",
       "      <th>4</th>\n",
       "      <td>4.92</td>\n",
       "      <td>66.0</td>\n",
       "    </tr>\n",
       "    <tr>\n",
       "      <th>...</th>\n",
       "      <td>...</td>\n",
       "      <td>...</td>\n",
       "    </tr>\n",
       "    <tr>\n",
       "      <th>494</th>\n",
       "      <td>4.88</td>\n",
       "      <td>40.0</td>\n",
       "    </tr>\n",
       "    <tr>\n",
       "      <th>495</th>\n",
       "      <td>4.81</td>\n",
       "      <td>40.0</td>\n",
       "    </tr>\n",
       "    <tr>\n",
       "      <th>496</th>\n",
       "      <td>4.81</td>\n",
       "      <td>350.0</td>\n",
       "    </tr>\n",
       "    <tr>\n",
       "      <th>497</th>\n",
       "      <td>4.84</td>\n",
       "      <td>31.0</td>\n",
       "    </tr>\n",
       "    <tr>\n",
       "      <th>498</th>\n",
       "      <td>4.89</td>\n",
       "      <td>119.0</td>\n",
       "    </tr>\n",
       "  </tbody>\n",
       "</table>\n",
       "<p>499 rows × 2 columns</p>\n",
       "</div>"
      ],
      "text/plain": [
       "     review_scores_location  price\n",
       "0                      4.55   58.0\n",
       "1                      5.00   67.0\n",
       "2                      4.79   66.0\n",
       "3                      4.85  150.0\n",
       "4                      4.92   66.0\n",
       "..                      ...    ...\n",
       "494                    4.88   40.0\n",
       "495                    4.81   40.0\n",
       "496                    4.81  350.0\n",
       "497                    4.84   31.0\n",
       "498                    4.89  119.0\n",
       "\n",
       "[499 rows x 2 columns]"
      ]
     },
     "execution_count": 8,
     "metadata": {},
     "output_type": "execute_result"
    }
   ],
   "source": [
    "df.fillna(0)\n"
   ]
  },
  {
   "cell_type": "code",
   "execution_count": 31,
   "id": "8a31b469",
   "metadata": {},
   "outputs": [],
   "source": [
    "from matplotlib import pyplot as plt\n",
    "import seaborn as sns"
   ]
  },
  {
   "cell_type": "code",
   "execution_count": 32,
   "id": "018071fb",
   "metadata": {
    "execution": {
     "iopub.execute_input": "2023-08-23T23:20:36.599567Z",
     "iopub.status.busy": "2023-08-23T23:20:36.599184Z",
     "iopub.status.idle": "2023-08-23T23:20:36.603861Z",
     "shell.execute_reply": "2023-08-23T23:20:36.602861Z"
    },
    "papermill": {
     "duration": 0.013609,
     "end_time": "2023-08-23T23:20:36.605906",
     "exception": false,
     "start_time": "2023-08-23T23:20:36.592297",
     "status": "completed"
    },
    "tags": []
   },
   "outputs": [],
   "source": [
    "X=df['review_scores_location']\n",
    "y=df['price']\n"
   ]
  },
  {
   "cell_type": "code",
   "execution_count": 33,
   "id": "3f812772",
   "metadata": {
    "execution": {
     "iopub.execute_input": "2023-08-23T23:20:36.619017Z",
     "iopub.status.busy": "2023-08-23T23:20:36.618638Z",
     "iopub.status.idle": "2023-08-23T23:20:37.737792Z",
     "shell.execute_reply": "2023-08-23T23:20:37.736661Z"
    },
    "papermill": {
     "duration": 1.128612,
     "end_time": "2023-08-23T23:20:37.740314",
     "exception": false,
     "start_time": "2023-08-23T23:20:36.611702",
     "status": "completed"
    },
    "tags": []
   },
   "outputs": [],
   "source": [
    "from sklearn.model_selection import train_test_split"
   ]
  },
  {
   "cell_type": "code",
   "execution_count": 34,
   "id": "93e4124a",
   "metadata": {
    "execution": {
     "iopub.execute_input": "2023-08-23T23:20:37.756176Z",
     "iopub.status.busy": "2023-08-23T23:20:37.755805Z",
     "iopub.status.idle": "2023-08-23T23:20:37.762054Z",
     "shell.execute_reply": "2023-08-23T23:20:37.760937Z"
    },
    "papermill": {
     "duration": 0.016037,
     "end_time": "2023-08-23T23:20:37.764172",
     "exception": false,
     "start_time": "2023-08-23T23:20:37.748135",
     "status": "completed"
    },
    "tags": []
   },
   "outputs": [],
   "source": [
    "X_train,X_test,y_train,y_test=train_test_split(X,y,train_size=0.7, random_state=100)\n",
    "X_train=X_train.fillna(0) \n",
    "X_test = X_test.fillna(0)\n",
    "y_train=y_train.fillna(0)\n",
    "y_test=y_test.fillna(0)"
   ]
  },
  {
   "cell_type": "code",
   "execution_count": 35,
   "id": "e1bbf982",
   "metadata": {
    "execution": {
     "iopub.execute_input": "2023-08-23T23:20:37.777200Z",
     "iopub.status.busy": "2023-08-23T23:20:37.776795Z",
     "iopub.status.idle": "2023-08-23T23:20:37.783094Z",
     "shell.execute_reply": "2023-08-23T23:20:37.781998Z"
    },
    "papermill": {
     "duration": 0.015783,
     "end_time": "2023-08-23T23:20:37.785666",
     "exception": false,
     "start_time": "2023-08-23T23:20:37.769883",
     "status": "completed"
    },
    "tags": []
   },
   "outputs": [
    {
     "name": "stderr",
     "output_type": "stream",
     "text": [
      "C:\\Users\\lizab\\AppData\\Local\\Temp\\ipykernel_25824\\906554304.py:1: FutureWarning: Support for multi-dimensional indexing (e.g. `obj[:, None]`) is deprecated and will be removed in a future version.  Convert to a numpy array before indexing instead.\n",
      "  X_train=X_train[:,np.newaxis]\n",
      "C:\\Users\\lizab\\AppData\\Local\\Temp\\ipykernel_25824\\906554304.py:2: FutureWarning: Support for multi-dimensional indexing (e.g. `obj[:, None]`) is deprecated and will be removed in a future version.  Convert to a numpy array before indexing instead.\n",
      "  X_test=X_test[:,np.newaxis]\n"
     ]
    }
   ],
   "source": [
    "X_train=X_train[:,np.newaxis]\n",
    "X_test=X_test[:,np.newaxis]\n"
   ]
  },
  {
   "cell_type": "code",
   "execution_count": 36,
   "id": "766fa407",
   "metadata": {
    "execution": {
     "iopub.execute_input": "2023-08-23T23:20:37.799305Z",
     "iopub.status.busy": "2023-08-23T23:20:37.798909Z",
     "iopub.status.idle": "2023-08-23T23:20:37.891178Z",
     "shell.execute_reply": "2023-08-23T23:20:37.890000Z"
    },
    "papermill": {
     "duration": 0.102322,
     "end_time": "2023-08-23T23:20:37.893605",
     "exception": false,
     "start_time": "2023-08-23T23:20:37.791283",
     "status": "completed"
    },
    "tags": []
   },
   "outputs": [],
   "source": [
    "from sklearn.linear_model import LinearRegression\n"
   ]
  },
  {
   "cell_type": "code",
   "execution_count": 37,
   "id": "f6d0f68a",
   "metadata": {
    "execution": {
     "iopub.execute_input": "2023-08-23T23:20:37.907238Z",
     "iopub.status.busy": "2023-08-23T23:20:37.906842Z",
     "iopub.status.idle": "2023-08-23T23:20:37.934712Z",
     "shell.execute_reply": "2023-08-23T23:20:37.933573Z"
    },
    "papermill": {
     "duration": 0.037403,
     "end_time": "2023-08-23T23:20:37.936993",
     "exception": false,
     "start_time": "2023-08-23T23:20:37.899590",
     "status": "completed"
    },
    "tags": []
   },
   "outputs": [
    {
     "data": {
      "text/html": [
       "<style>#sk-container-id-3 {color: black;background-color: white;}#sk-container-id-3 pre{padding: 0;}#sk-container-id-3 div.sk-toggleable {background-color: white;}#sk-container-id-3 label.sk-toggleable__label {cursor: pointer;display: block;width: 100%;margin-bottom: 0;padding: 0.3em;box-sizing: border-box;text-align: center;}#sk-container-id-3 label.sk-toggleable__label-arrow:before {content: \"▸\";float: left;margin-right: 0.25em;color: #696969;}#sk-container-id-3 label.sk-toggleable__label-arrow:hover:before {color: black;}#sk-container-id-3 div.sk-estimator:hover label.sk-toggleable__label-arrow:before {color: black;}#sk-container-id-3 div.sk-toggleable__content {max-height: 0;max-width: 0;overflow: hidden;text-align: left;background-color: #f0f8ff;}#sk-container-id-3 div.sk-toggleable__content pre {margin: 0.2em;color: black;border-radius: 0.25em;background-color: #f0f8ff;}#sk-container-id-3 input.sk-toggleable__control:checked~div.sk-toggleable__content {max-height: 200px;max-width: 100%;overflow: auto;}#sk-container-id-3 input.sk-toggleable__control:checked~label.sk-toggleable__label-arrow:before {content: \"▾\";}#sk-container-id-3 div.sk-estimator input.sk-toggleable__control:checked~label.sk-toggleable__label {background-color: #d4ebff;}#sk-container-id-3 div.sk-label input.sk-toggleable__control:checked~label.sk-toggleable__label {background-color: #d4ebff;}#sk-container-id-3 input.sk-hidden--visually {border: 0;clip: rect(1px 1px 1px 1px);clip: rect(1px, 1px, 1px, 1px);height: 1px;margin: -1px;overflow: hidden;padding: 0;position: absolute;width: 1px;}#sk-container-id-3 div.sk-estimator {font-family: monospace;background-color: #f0f8ff;border: 1px dotted black;border-radius: 0.25em;box-sizing: border-box;margin-bottom: 0.5em;}#sk-container-id-3 div.sk-estimator:hover {background-color: #d4ebff;}#sk-container-id-3 div.sk-parallel-item::after {content: \"\";width: 100%;border-bottom: 1px solid gray;flex-grow: 1;}#sk-container-id-3 div.sk-label:hover label.sk-toggleable__label {background-color: #d4ebff;}#sk-container-id-3 div.sk-serial::before {content: \"\";position: absolute;border-left: 1px solid gray;box-sizing: border-box;top: 0;bottom: 0;left: 50%;z-index: 0;}#sk-container-id-3 div.sk-serial {display: flex;flex-direction: column;align-items: center;background-color: white;padding-right: 0.2em;padding-left: 0.2em;position: relative;}#sk-container-id-3 div.sk-item {position: relative;z-index: 1;}#sk-container-id-3 div.sk-parallel {display: flex;align-items: stretch;justify-content: center;background-color: white;position: relative;}#sk-container-id-3 div.sk-item::before, #sk-container-id-3 div.sk-parallel-item::before {content: \"\";position: absolute;border-left: 1px solid gray;box-sizing: border-box;top: 0;bottom: 0;left: 50%;z-index: -1;}#sk-container-id-3 div.sk-parallel-item {display: flex;flex-direction: column;z-index: 1;position: relative;background-color: white;}#sk-container-id-3 div.sk-parallel-item:first-child::after {align-self: flex-end;width: 50%;}#sk-container-id-3 div.sk-parallel-item:last-child::after {align-self: flex-start;width: 50%;}#sk-container-id-3 div.sk-parallel-item:only-child::after {width: 0;}#sk-container-id-3 div.sk-dashed-wrapped {border: 1px dashed gray;margin: 0 0.4em 0.5em 0.4em;box-sizing: border-box;padding-bottom: 0.4em;background-color: white;}#sk-container-id-3 div.sk-label label {font-family: monospace;font-weight: bold;display: inline-block;line-height: 1.2em;}#sk-container-id-3 div.sk-label-container {text-align: center;}#sk-container-id-3 div.sk-container {/* jupyter's `normalize.less` sets `[hidden] { display: none; }` but bootstrap.min.css set `[hidden] { display: none !important; }` so we also need the `!important` here to be able to override the default hidden behavior on the sphinx rendered scikit-learn.org. See: https://github.com/scikit-learn/scikit-learn/issues/21755 */display: inline-block !important;position: relative;}#sk-container-id-3 div.sk-text-repr-fallback {display: none;}</style><div id=\"sk-container-id-3\" class=\"sk-top-container\"><div class=\"sk-text-repr-fallback\"><pre>LinearRegression()</pre><b>In a Jupyter environment, please rerun this cell to show the HTML representation or trust the notebook. <br />On GitHub, the HTML representation is unable to render, please try loading this page with nbviewer.org.</b></div><div class=\"sk-container\" hidden><div class=\"sk-item\"><div class=\"sk-estimator sk-toggleable\"><input class=\"sk-toggleable__control sk-hidden--visually\" id=\"sk-estimator-id-3\" type=\"checkbox\" checked><label for=\"sk-estimator-id-3\" class=\"sk-toggleable__label sk-toggleable__label-arrow\">LinearRegression</label><div class=\"sk-toggleable__content\"><pre>LinearRegression()</pre></div></div></div></div></div>"
      ],
      "text/plain": [
       "LinearRegression()"
      ]
     },
     "execution_count": 37,
     "metadata": {},
     "output_type": "execute_result"
    }
   ],
   "source": [
    "lr=LinearRegression()\n",
    "lr.fit(X_train,y_train)"
   ]
  },
  {
   "cell_type": "code",
   "execution_count": 38,
   "id": "3ac65a60",
   "metadata": {
    "execution": {
     "iopub.execute_input": "2023-08-23T23:20:37.951151Z",
     "iopub.status.busy": "2023-08-23T23:20:37.950555Z",
     "iopub.status.idle": "2023-08-23T23:20:37.956071Z",
     "shell.execute_reply": "2023-08-23T23:20:37.955022Z"
    },
    "papermill": {
     "duration": 0.014738,
     "end_time": "2023-08-23T23:20:37.958183",
     "exception": false,
     "start_time": "2023-08-23T23:20:37.943445",
     "status": "completed"
    },
    "tags": []
   },
   "outputs": [],
   "source": [
    "y_pred=lr.predict(X_test)\n"
   ]
  },
  {
   "cell_type": "code",
   "execution_count": 39,
   "id": "9643b46e",
   "metadata": {},
   "outputs": [
    {
     "data": {
      "image/png": "[encoded data removed]",
      "text/plain": [
       "<Figure size 432x288 with 1 Axes>"
      ]
     },
     "metadata": {
      "needs_background": "light"
     },
     "output_type": "display_data"
    }
   ],
   "source": [
    "plt.scatter(X_train, y_train,color='g')\n",
    "plt.plot(X_test, y_pred,color='k')\n",
    "\n",
    "plt.show()\n",
    "\n"
   ]
  },
  {
   "cell_type": "code",
   "execution_count": 17,
   "id": "83941f77",
   "metadata": {
    "execution": {
     "iopub.execute_input": "2023-08-23T23:20:37.971957Z",
     "iopub.status.busy": "2023-08-23T23:20:37.971179Z",
     "iopub.status.idle": "2023-08-23T23:20:37.976170Z",
     "shell.execute_reply": "2023-08-23T23:20:37.975001Z"
    },
    "papermill": {
     "duration": 0.014437,
     "end_time": "2023-08-23T23:20:37.978565",
     "exception": false,
     "start_time": "2023-08-23T23:20:37.964128",
     "status": "completed"
    },
    "tags": []
   },
   "outputs": [],
   "source": [
    "from sklearn.metrics import mean_squared_error, r2_score\n"
   ]
  },
  {
   "cell_type": "code",
   "execution_count": 18,
   "id": "24f9dd1d",
   "metadata": {
    "execution": {
     "iopub.execute_input": "2023-08-23T23:20:37.992184Z",
     "iopub.status.busy": "2023-08-23T23:20:37.991797Z",
     "iopub.status.idle": "2023-08-23T23:20:37.997489Z",
     "shell.execute_reply": "2023-08-23T23:20:37.996702Z"
    },
    "papermill": {
     "duration": 0.015063,
     "end_time": "2023-08-23T23:20:37.999769",
     "exception": false,
     "start_time": "2023-08-23T23:20:37.984706",
     "status": "completed"
    },
    "tags": []
   },
   "outputs": [
    {
     "name": "stdout",
     "output_type": "stream",
     "text": [
      "477736.9107675465\n"
     ]
    }
   ],
   "source": [
    "mse =mean_squared_error(y_test,y_pred)\n",
    "print(mse)"
   ]
  },
  {
   "cell_type": "code",
   "execution_count": 19,
   "id": "5b2208d3",
   "metadata": {
    "execution": {
     "iopub.execute_input": "2023-08-23T23:20:38.013707Z",
     "iopub.status.busy": "2023-08-23T23:20:38.013010Z",
     "iopub.status.idle": "2023-08-23T23:20:38.019317Z",
     "shell.execute_reply": "2023-08-23T23:20:38.018332Z"
    },
    "papermill": {
     "duration": 0.015541,
     "end_time": "2023-08-23T23:20:38.021379",
     "exception": false,
     "start_time": "2023-08-23T23:20:38.005838",
     "status": "completed"
    },
    "tags": []
   },
   "outputs": [
    {
     "data": {
      "text/plain": [
       "110.36687320727707"
      ]
     },
     "execution_count": 19,
     "metadata": {},
     "output_type": "execute_result"
    }
   ],
   "source": [
    "lr.intercept_\n"
   ]
  },
  {
   "cell_type": "code",
   "execution_count": 20,
   "id": "60348919",
   "metadata": {
    "execution": {
     "iopub.execute_input": "2023-08-23T23:20:38.034848Z",
     "iopub.status.busy": "2023-08-23T23:20:38.034473Z",
     "iopub.status.idle": "2023-08-23T23:20:38.040452Z",
     "shell.execute_reply": "2023-08-23T23:20:38.039741Z"
    },
    "papermill": {
     "duration": 0.014853,
     "end_time": "2023-08-23T23:20:38.042234",
     "exception": false,
     "start_time": "2023-08-23T23:20:38.027381",
     "status": "completed"
    },
    "tags": []
   },
   "outputs": [
    {
     "data": {
      "text/plain": [
       "array([0.41620514])"
      ]
     },
     "execution_count": 20,
     "metadata": {},
     "output_type": "execute_result"
    }
   ],
   "source": [
    "lr.coef_\n"
   ]
  },
  {
   "cell_type": "code",
   "execution_count": 56,
   "id": "06d26502",
   "metadata": {
    "execution": {
     "iopub.execute_input": "2023-08-23T23:20:38.055633Z",
     "iopub.status.busy": "2023-08-23T23:20:38.055249Z",
     "iopub.status.idle": "2023-08-23T23:20:38.061653Z",
     "shell.execute_reply": "2023-08-23T23:20:38.060504Z"
    },
    "papermill": {
     "duration": 0.015637,
     "end_time": "2023-08-23T23:20:38.063875",
     "exception": false,
     "start_time": "2023-08-23T23:20:38.048238",
     "status": "completed"
    },
    "tags": []
   },
   "outputs": [
    {
     "name": "stdout",
     "output_type": "stream",
     "text": [
      "-0.008142921199394415\n"
     ]
    }
   ],
   "source": [
    "rsq=r2_score(y_test,y_pred)\n",
    "print(rsq)"
   ]
  },
  {
   "cell_type": "markdown",
   "id": "dae43e86",
   "metadata": {
    "papermill": {
     "duration": 0.005885,
     "end_time": "2023-08-23T23:20:38.076109",
     "exception": false,
     "start_time": "2023-08-23T23:20:38.070224",
     "status": "completed"
    },
    "tags": []
   },
   "source": [
    "Y= 9731.2x + 25202.88\n"
   ]
  },
  {
   "cell_type": "code",
   "execution_count": null,
   "id": "b45a3678",
   "metadata": {
    "papermill": {
     "duration": 0.005817,
     "end_time": "2023-08-23T23:20:38.088188",
     "exception": false,
     "start_time": "2023-08-23T23:20:38.082371",
     "status": "completed"
    },
    "tags": []
   },
   "outputs": [],
   "source": []
  },
  {
   "cell_type": "markdown",
   "id": "412d0ec4",
   "metadata": {
    "papermill": {
     "duration": 0.005761,
     "end_time": "2023-08-23T23:20:38.099949",
     "exception": false,
     "start_time": "2023-08-23T23:20:38.094188",
     "status": "completed"
    },
    "tags": []
   },
   "source": []
  }
 ],
 "metadata": {
  "kernelspec": {
   "display_name": "Python 3 (ipykernel)",
   "language": "python",
   "name": "python3"
  },
  "language_info": {
   "codemirror_mode": {
    "name": "ipython",
    "version": 3
   },
   "file_extension": ".py",
   "mimetype": "text/x-python",
   "name": "python",
   "nbconvert_exporter": "python",
   "pygments_lexer": "ipython3",
   "version": "3.9.12"
  },
  "papermill": {
   "default_parameters": {},
   "duration": 11.541515,
   "end_time": "2023-08-23T23:20:39.029712",
   "environment_variables": {},
   "exception": null,
   "input_path": "__notebook__.ipynb",
   "output_path": "__notebook__.ipynb",
   "parameters": {},
   "start_time": "2023-08-23T23:20:27.488197",
   "version": "2.4.0"
  }
 },
 "nbformat": 4,
 "nbformat_minor": 5
}
